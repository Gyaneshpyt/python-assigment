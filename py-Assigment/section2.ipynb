{
 "cells": [
  {
   "cell_type": "markdown",
   "metadata": {},
   "source": [
    "# Section 2: For Loops"
   ]
  },
  {
   "cell_type": "markdown",
   "metadata": {},
   "source": [
    "# 6. Multiplication Table: Write a Python program to print the multiplication table of a given number using a for loop.\n",
    "Example:\n",
    "○ Input: 5\n",
    "○ Output: 5, 10, 15, ..., 50\n"
   ]
  },
  {
   "cell_type": "code",
   "execution_count": 2,
   "metadata": {},
   "outputs": [
    {
     "name": "stdout",
     "output_type": "stream",
     "text": [
      "Input:99\n",
      "Output: \n",
      "99 * 1 = 99\n",
      "99 * 2 = 198\n",
      "99 * 3 = 297\n",
      "99 * 4 = 396\n",
      "99 * 5 = 495\n",
      "99 * 6 = 594\n",
      "99 * 7 = 693\n",
      "99 * 8 = 792\n",
      "99 * 9 = 891\n",
      "99 * 10 = 990\n"
     ]
    }
   ],
   "source": [
    "given_numericals = int(input(\"Enter any positive number: \"))\n",
    "print(f\"Input:{given_numericals}\")\n",
    "print(\"Output: \")\n",
    "\n",
    "for i in range(1 , 11):\n",
    "    print(f\"{given_numericals} * {i} = {given_numericals * i}\")\n",
    "    "
   ]
  },
  {
   "cell_type": "markdown",
   "metadata": {},
   "source": [
    "# 7. Count Vowels: Write a program to count and display the number of vowels in a given string."
   ]
  },
  {
   "cell_type": "code",
   "execution_count": 1,
   "metadata": {},
   "outputs": [
    {
     "name": "stdout",
     "output_type": "stream",
     "text": [
      "The word p has 0 Vowwels in it\n"
     ]
    }
   ],
   "source": [
    "strings = input(\"provide any word \")\n",
    "vowels = \"aeiouAEIOU\"\n",
    "count = 0\n",
    "\n",
    "for char in strings:\n",
    "    if char in  vowels:\n",
    "        count += 1 \n",
    "print(f\"The word {strings} has {count} Vowwels in it\")\n",
    "\n",
    "        \n",
    "\n",
    "\n"
   ]
  },
  {
   "cell_type": "markdown",
   "metadata": {},
   "source": [
    "# 8. Sum of Even Numbers Create a program to find the sum of all even numbers in a list using a for loop.\n",
    "Example:\n",
    "○ Input: [2, 5, 8, 3]\n",
    "○ Output: 10"
   ]
  },
  {
   "cell_type": "code",
   "execution_count": 2,
   "metadata": {},
   "outputs": [
    {
     "name": "stdout",
     "output_type": "stream",
     "text": [
      "Input: [2]\n",
      "Output: 2\n"
     ]
    }
   ],
   "source": [
    "sum_even = 0\n",
    "numbers = input(\"Enter the number also provide space to seprate the number\") \n",
    "number_list = [int(num) for num in numbers.split()] \n",
    "\n",
    "for even_num in number_list:\n",
    "    if even_num % 2 == 0:\n",
    "        sum_even += even_num\n",
    "\n",
    "print(f\"Input: {number_list}\\nOutput: {sum_even}\")"
   ]
  },
  {
   "cell_type": "markdown",
   "metadata": {},
   "source": [
    "# 9. Create a program to find the largest and smallest numbers in a list using a for loop.\n",
    "Example:\n",
    "○ Input = [10, 20, 5, 8], Output = Largest = 20, Smallest = 5\n"
   ]
  },
  {
   "cell_type": "code",
   "execution_count": 4,
   "metadata": {},
   "outputs": [
    {
     "name": "stdout",
     "output_type": "stream",
     "text": [
      "Input: [88]\n",
      "Output: Largest= 88, Smallest = 88\n"
     ]
    }
   ],
   "source": [
    "\n",
    "number = input(\"Enter the number with space to seprate the number\")\n",
    "number_list = [int(num) for num in number.split()]\n",
    "print(f\"Input: {number_list}\")\n",
    "\n",
    "largest = number_list[0]\n",
    "smallest = number_list[0]\n",
    "\n",
    "for numb in number_list:\n",
    "    if numb > largest:\n",
    "        largest = numb\n",
    "    if numb < smallest:\n",
    "        smallest = numb\n",
    "print(f\"Output: Largest= {largest}, Smallest = {smallest}\")\n",
    "\n",
    "\n"
   ]
  },
  {
   "cell_type": "markdown",
   "metadata": {},
   "source": [
    "# 10. Write a program to calculate the sum of digits of a given number using a for loop.\n"
   ]
  },
  {
   "cell_type": "code",
   "execution_count": 44,
   "metadata": {},
   "outputs": [
    {
     "name": "stdout",
     "output_type": "stream",
     "text": [
      "Input: 1234\n",
      "Output: 10\n"
     ]
    }
   ],
   "source": [
    "digits = int(input(\"Enter any positive digits: \"))\n",
    "print(f\"Input: {digits}\")\n",
    "sum = 0\n",
    "\n",
    "for dig in str(digits):\n",
    "    sum += int(dig)\n",
    "print(f\"Output: {sum}\")\n"
   ]
  },
  {
   "cell_type": "markdown",
   "metadata": {},
   "source": [
    "# 11. Write a program to reverse a given string using a for loop.\n",
    "Example: Input = \"Python\", Output = \"nohtyP\""
   ]
  },
  {
   "cell_type": "code",
   "execution_count": 3,
   "metadata": {},
   "outputs": [
    {
     "name": "stdout",
     "output_type": "stream",
     "text": [
      "Input: 99\n",
      "Output: 99\n"
     ]
    }
   ],
   "source": [
    "strings = input(\"Input any string of your choice: \")\n",
    "reversed_String = \"\"\n",
    "print(f\"Input: {strings}\")\n",
    "\n",
    "for char in strings:\n",
    "   reversed_String =  char +  reversed_String\n",
    "print(f\"Output: {reversed_String}\")\n",
    "    \n"
   ]
  }
 ],
 "metadata": {
  "kernelspec": {
   "display_name": "Python 3",
   "language": "python",
   "name": "python3"
  },
  "language_info": {
   "codemirror_mode": {
    "name": "ipython",
    "version": 3
   },
   "file_extension": ".py",
   "mimetype": "text/x-python",
   "name": "python",
   "nbconvert_exporter": "python",
   "pygments_lexer": "ipython3",
   "version": "3.13.0"
  }
 },
 "nbformat": 4,
 "nbformat_minor": 2
}
