{
 "cells": [
  {
   "cell_type": "markdown",
   "metadata": {},
   "source": [
    "# Section 1: Conditional Statement"
   ]
  },
  {
   "cell_type": "markdown",
   "metadata": {},
   "source": [
    "# 1. Write a program that asks the user to enter a number and checks whether the number is even or odd."
   ]
  },
  {
   "cell_type": "code",
   "execution_count": 2,
   "metadata": {},
   "outputs": [
    {
     "name": "stdout",
     "output_type": "stream",
     "text": [
      "The number 8 is even.\n"
     ]
    }
   ],
   "source": [
    "check_number = int(input(\"Enter a number: \"))\n",
    "\n",
    "if check_number % 2 == 0:\n",
    "    print(f\"The number {check_number} is even.\")\n",
    "else:\n",
    "    print(f\"The number {check_number} is odd.\")\n",
    "\n"
   ]
  },
  {
   "cell_type": "markdown",
   "metadata": {},
   "source": [
    "# 2. Write a program that asks the user to enter a number and checks whether it is positive, negative, or zero."
   ]
  },
  {
   "cell_type": "code",
   "execution_count": 3,
   "metadata": {},
   "outputs": [
    {
     "name": "stdout",
     "output_type": "stream",
     "text": [
      "The number 88.0 is positive.\n"
     ]
    }
   ],
   "source": [
    "\n",
    "number = float(input(\"Enter a number: \"))\n",
    "\n",
    "if number > 0:\n",
    "    print(f\"The number {number} is positive.\")\n",
    "elif number < 0:\n",
    "    print(f\"The number {number} is negative.\")\n",
    "else:\n",
    "    print(\"The number is zero.\")\n"
   ]
  },
  {
   "cell_type": "markdown",
   "metadata": {},
   "source": [
    "# 3. Write a program that asks the user to enter their age and checks if they are eligible to vote (18 years or older)."
   ]
  },
  {
   "cell_type": "code",
   "execution_count": 4,
   "metadata": {},
   "outputs": [
    {
     "name": "stdout",
     "output_type": "stream",
     "text": [
      "You are accepted to vote.\n"
     ]
    }
   ],
   "source": [
    "\n",
    "age = int(input(\"Enter your age: \"))\n",
    "if age >= 18:\n",
    "    print(\"You are accepted to vote.\")\n",
    "else:\n",
    "    print(\"You do not fit the criteria . You must be at least 18 years old or older.\")\n"
   ]
  },
  {
   "cell_type": "markdown",
   "metadata": {},
   "source": [
    "# 4. Write a program that takes the lengths of three sides of a triangle as input and determines if the triangle is:\n",
    "○ Equilateral (all sides are equal)\n",
    "○ Isosceles (two sides are equal)\n",
    "○ Scalene (all sides are different)"
   ]
  },
  {
   "cell_type": "code",
   "execution_count": 6,
   "metadata": {},
   "outputs": [
    {
     "name": "stdout",
     "output_type": "stream",
     "text": [
      "The triangle is Equilateral (all sides are equal).\n"
     ]
    }
   ],
   "source": [
    "\n",
    "\n",
    "x = float(input(\"Enter the length of the first side: \"))\n",
    "y = float(input(\"Enter the length of the second side: \"))\n",
    "z = float(input(\"Enter the length of the third side: \"))\n",
    "\n",
    "if x + y > z and x + z > y and y + z > x:\n",
    "    if x == y == z:\n",
    "        print(\"The triangle is Equilateral (all sides are equal).\")\n",
    "    elif x == y or x == z or y == z:\n",
    "        print(\"The triangle is Isosceles (two sides are equal).\")\n",
    "    else:\n",
    "        print(\"The triangle is Scalene (all sides are different).\")\n",
    "else:\n",
    "    print(\"The given lengths do not form a valid triangle.\")\n"
   ]
  },
  {
   "cell_type": "markdown",
   "metadata": {},
   "source": [
    "# 5. Write a program that asks the user to enter a password and checks if it matches a predefined password (e.g., \"Python123\")."
   ]
  },
  {
   "cell_type": "code",
   "execution_count": 10,
   "metadata": {},
   "outputs": [
    {
     "name": "stdout",
     "output_type": "stream",
     "text": [
      "Access granted! The passcode is correct.\n"
     ]
    }
   ],
   "source": [
    "\n",
    "\n",
    "rightPasscode = \"Python123\"\n",
    "\n",
    "\n",
    "userPasscode = input(\"Enter the passcode: \")\n",
    "\n",
    "\n",
    "if userPasscode == rightPasscode:\n",
    "    print(\"Access granted! The passcode is correct.\")\n",
    "else:\n",
    "    print(\"Access denied! The passcode is incorrect.\")\n"
   ]
  }
 ],
 "metadata": {
  "kernelspec": {
   "display_name": "Python 3",
   "language": "python",
   "name": "python3"
  },
  "language_info": {
   "codemirror_mode": {
    "name": "ipython",
    "version": 3
   },
   "file_extension": ".py",
   "mimetype": "text/x-python",
   "name": "python",
   "nbconvert_exporter": "python",
   "pygments_lexer": "ipython3",
   "version": "3.13.0"
  }
 },
 "nbformat": 4,
 "nbformat_minor": 2
}
